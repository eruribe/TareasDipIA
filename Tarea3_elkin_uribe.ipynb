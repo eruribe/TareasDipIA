{
 "cells": [
  {
   "cell_type": "markdown",
   "id": "3dca63d4-39c1-4203-85e4-deebf24c6c71",
   "metadata": {},
   "source": [
    "# <span style=\"color:red\"><center>Tarea 3</center></span>\n",
    "### <span style=\"color:green\"><justify>por: Elkin Uribe</justify></span>"
   ]
  },
  {
   "cell_type": "markdown",
   "id": "c826ccc9-fb0b-4162-bf11-d38c4ef78d18",
   "metadata": {},
   "source": [
    "<span style=\"color:green\"><justify>1. Escriba una función  que reciba la fecha de nacimiento de una persona y calcule su edad \n",
    "</justify></span>"
   ]
  },
  {
   "cell_type": "code",
   "execution_count": 330,
   "id": "cae32c0d-6aaa-49de-ba2e-3e7c2fada2ec",
   "metadata": {},
   "outputs": [],
   "source": [
    "from datetime import date\n",
    "\n",
    "class Persona:\n",
    "    \n",
    "    def calcular_edad(self):\n",
    "        nacimiento = input(\"Ingrese su fecha de nacimiento DD/MM/AAAA: \")\n",
    "        dia, mes, año = map(int, nacimiento.split('/'))\n",
    "        fecha_nac = date(año, mes, dia)\n",
    "        hoy = date.today()\n",
    "        ed = hoy.year - fecha_nac.year - ((hoy.month, hoy.day) < (fecha_nac.month, fecha_nac.day))\n",
    "        print('usted tiene',ed,'primaveras')"
   ]
  },
  {
   "cell_type": "code",
   "execution_count": 334,
   "id": "f2f46142-9311-4039-a317-a2963c410223",
   "metadata": {},
   "outputs": [
    {
     "name": "stdin",
     "output_type": "stream",
     "text": [
      "Ingrese su fecha de nacimiento DD/MM/AAAA:  07/01/1985\n"
     ]
    },
    {
     "name": "stdout",
     "output_type": "stream",
     "text": [
      "usted tiene 38 primaveras\n"
     ]
    }
   ],
   "source": [
    "usuario = Persona()\n",
    "\n",
    "edad_usuario = usuario.calcular_edad()"
   ]
  },
  {
   "cell_type": "markdown",
   "id": "70ec7c75-a023-44e0-bb57-c13dde8059b1",
   "metadata": {},
   "source": [
    "<span style=\"color:green\"><justify>2. Crea una función EscribirCentrado, que reciba como parámetro un texto y lo escriba centrado en pantalla (suponiendo una anchura de 80 columnas; pista: deberás escribir 40 - longitud/2 espacios antes del texto).\n",
    "</justify></span>"
   ]
  },
  {
   "cell_type": "code",
   "execution_count": 335,
   "id": "e5e387c2-185b-45a3-a2be-8c3f38b798ee",
   "metadata": {},
   "outputs": [],
   "source": [
    "def EscribirCentrado(texto):\n",
    "    ancho_pantalla = 80\n",
    "    espacios = \" \" * (int((ancho_pantalla - len(texto)) / 2))\n",
    "    print(espacios + texto)"
   ]
  },
  {
   "cell_type": "code",
   "execution_count": 336,
   "id": "3118524b-4df5-48b4-8402-1def23344bad",
   "metadata": {},
   "outputs": [
    {
     "name": "stdout",
     "output_type": "stream",
     "text": [
      "                  Hola, este texto está centrado en pantalla.\n"
     ]
    }
   ],
   "source": [
    "EscribirCentrado(\"Hola, este texto está centrado en pantalla.\")"
   ]
  },
  {
   "cell_type": "markdown",
   "id": "a3c93b02-5254-4322-bae9-7f7a9c31fd9f",
   "metadata": {},
   "source": [
    "<span style=\"color:green\"><justify>3. Construya una función decorada que reciba un texto y lo escriba marcado con Markdown en itálica y resaltada (bold). Revise la lección de decoradores, no vista en clase.</justify></span>"
   ]
  },
  {
   "cell_type": "code",
   "execution_count": 337,
   "id": "324d0c1b-d1b4-463c-bf4a-3fdba023b069",
   "metadata": {},
   "outputs": [],
   "source": [
    "def decorador_mark(funcion_original):\n",
    "    \n",
    "    def funcion_decorada(texto):\n",
    "        texto_original = funcion_original(texto)\n",
    "        texto_decorado = f\"**_{texto_original}_**\"\n",
    "        return texto_decorado\n",
    "    return funcion_decorada\n"
   ]
  },
  {
   "cell_type": "code",
   "execution_count": 338,
   "id": "06f856dd-84bb-4cab-bf78-680692094879",
   "metadata": {},
   "outputs": [],
   "source": [
    "@decorador_mark\n",
    "def escribir_texto(texto):\n",
    "    return texto"
   ]
  },
  {
   "cell_type": "code",
   "execution_count": 339,
   "id": "ea11026b-90f7-42cd-8dfb-42b98998a2b4",
   "metadata": {},
   "outputs": [
    {
     "name": "stdout",
     "output_type": "stream",
     "text": [
      "**_Este texto estará en negrita y en itálica._**\n"
     ]
    }
   ],
   "source": [
    "texto_decorado = escribir_texto(\"Este texto estará en negrita y en itálica.\")\n",
    "print(texto_decorado)\n"
   ]
  },
  {
   "cell_type": "markdown",
   "id": "26dbd905-325a-4e3f-a184-85c2d99a15cd",
   "metadata": {},
   "source": [
    "**_Este texto estará en negrita y en itálica._**\n"
   ]
  },
  {
   "cell_type": "markdown",
   "id": "f7181c47-3d89-4b99-a47b-c0360af2e145",
   "metadata": {},
   "source": [
    "<span style=\"color:green\"><justify>4.  Crea un programa que pida dos números enteros al usuario y diga si alguno de ellos es múltiplo del otro. </justify></span>"
   ]
  },
  {
   "cell_type": "code",
   "execution_count": 341,
   "id": "086aa79c-2f7f-42b3-bcfb-4cb55c96915c",
   "metadata": {},
   "outputs": [
    {
     "name": "stdin",
     "output_type": "stream",
     "text": [
      "Ingrese el primer número entero:  32\n",
      "Ingrese el segundo número entero:  2\n"
     ]
    },
    {
     "name": "stdout",
     "output_type": "stream",
     "text": [
      "32 es múltiplo de 2.\n"
     ]
    }
   ],
   "source": [
    "num1 = int(input(\"Ingrese el primer número entero: \"))\n",
    "num2 = int(input(\"Ingrese el segundo número entero: \"))\n",
    "\n",
    "if num1 % num2 == 0:\n",
    "    print(f\"{num1} es múltiplo de {num2}.\")\n",
    "elif num2 % num1 == 0:\n",
    "    print(f\"{num2} es múltiplo de {num1}.\")\n",
    "else:\n",
    "    print(\"Ninguno de los dos números es múltiplo del otro.\")\n"
   ]
  },
  {
   "cell_type": "markdown",
   "id": "4d681259-d0db-48e0-9ad5-8a8cb15f07c6",
   "metadata": {},
   "source": [
    "<span style=\"color:green\"><justify>5. Crear una función que reciba una lista  de 24 valores de temperatura leída  hora en un día y que calcule la temperatura media. Cree una lista con 24 valores de temperatura de un día de Bogotá y pruebe su función. Invente los datos. </justify></span>"
   ]
  },
  {
   "cell_type": "code",
   "execution_count": 342,
   "id": "70cbdc78-0c9a-4ad4-a281-a3e62bb7569a",
   "metadata": {},
   "outputs": [],
   "source": [
    "def temperatura_media(temperaturas):\n",
    "    total_temperaturas = sum(temperaturas)\n",
    "    media_temperaturas = total_temperaturas / len(temperaturas)\n",
    "    return media_temperaturas\n"
   ]
  },
  {
   "cell_type": "code",
   "execution_count": 343,
   "id": "65ef0a18-dd77-48e8-a803-8e633c64caa4",
   "metadata": {},
   "outputs": [],
   "source": [
    "temperaturas_bogota = [15, 15, 14, 14, 14, 13, 13, 13, 14, 16, 18, 20, 21, 21, 21, 20, 19, 18, 17, 17, 16, 16, 15, 15]\n"
   ]
  },
  {
   "cell_type": "code",
   "execution_count": 344,
   "id": "dfb7e48a-4999-479b-a162-5c5cf1936fc7",
   "metadata": {},
   "outputs": [
    {
     "name": "stdout",
     "output_type": "stream",
     "text": [
      "La temperatura media en Bogotá es de 16.458333333333332° grados centígrados.\n"
     ]
    }
   ],
   "source": [
    "temperatura_media_bogota = temperatura_media(temperaturas_bogota)\n",
    "print(f\"La temperatura media en Bogotá es de {temperatura_media_bogota}° grados centígrados.\")\n"
   ]
  },
  {
   "cell_type": "markdown",
   "id": "4a976fd8-8606-4366-b681-d5ab65fa159b",
   "metadata": {},
   "source": [
    "<span style=\"color:green\"><justify>5. Crea un función “ConvertirEspaciado”, que reciba como parámetro un texto y devuelve una cadena con un espacio adicional tras cada letra. Por ejemplo, “Hola, tú” devolverá “H o l a , t ú “.  Pruebe  </justify></span>"
   ]
  },
  {
   "cell_type": "code",
   "execution_count": 345,
   "id": "41e5f8b8-6b9f-4dc6-8031-34c18f610a83",
   "metadata": {},
   "outputs": [],
   "source": [
    "def ConvertirEspaciado(texto):\n",
    "    txt = [\" \" + x for x in texto]\n",
    "    todo = ''.join(txt)\n",
    "    return todo"
   ]
  },
  {
   "cell_type": "code",
   "execution_count": 346,
   "id": "f19dd307-3ab2-4054-9782-c4ea2a03d090",
   "metadata": {},
   "outputs": [
    {
     "data": {
      "text/plain": [
       "' H O l a ,   l o   l o g r e e e e'"
      ]
     },
     "execution_count": 346,
     "metadata": {},
     "output_type": "execute_result"
    }
   ],
   "source": [
    "ConvertirEspaciado('HOla, lo logreeee')"
   ]
  },
  {
   "cell_type": "markdown",
   "id": "26472d40-1c6f-4546-a8c1-f61583c25455",
   "metadata": {},
   "source": [
    "<span style=\"color:green\"><justify>6. Crea una función “calcularMaxMin” que recibe un arreglo con valores numérico y devuelve el valor máximo y el mínimo.</justify></span>"
   ]
  },
  {
   "cell_type": "code",
   "execution_count": 347,
   "id": "e951fb36-e9d6-424a-898e-809958f09700",
   "metadata": {},
   "outputs": [],
   "source": [
    "def calcularMaxMin(arreglo):\n",
    "    maximo = max(arreglo)\n",
    "    minimo = min(arreglo)\n",
    "    print('el valor máximo de la lista es:', maximo,'\\nel valor mínimo de la lista es:',minimo)"
   ]
  },
  {
   "cell_type": "code",
   "execution_count": 348,
   "id": "cbcbbddf-2a69-4f7d-9930-7dabc996f900",
   "metadata": {},
   "outputs": [
    {
     "name": "stdout",
     "output_type": "stream",
     "text": [
      "[654, 712, 221, 16, 176, 792, 456, 655, 596, 863, 736, 21, 655, 195, 372, 933, 712, 887, 982, 558, 673, 170, 433, 678, 890, 664, 45, 891, 962, 37]\n"
     ]
    }
   ],
   "source": [
    "import random\n",
    "\n",
    "matrix = [random.randint(0,1000) for i in range(30)]\n",
    "\n",
    "print(matrix)\n"
   ]
  },
  {
   "cell_type": "code",
   "execution_count": 349,
   "id": "c5b4a8e4-c7f4-401d-9c66-d3cc80653d34",
   "metadata": {},
   "outputs": [
    {
     "name": "stdout",
     "output_type": "stream",
     "text": [
      "el valor máximo de la lista es: 982 \n",
      "el valor mínimo de la lista es: 16\n"
     ]
    }
   ],
   "source": [
    "resultado = calcularMaxMin(matrix)\n",
    "\n",
    "resultado\n"
   ]
  },
  {
   "cell_type": "markdown",
   "id": "96d623fb-dd6d-4f35-a2ce-478fa297115d",
   "metadata": {},
   "source": [
    "<span style=\"color:green\"><justify>7.  Diseñar una función que calcule el área y el perímetro de una circunferencia. </justify></span>"
   ]
  },
  {
   "cell_type": "code",
   "execution_count": 350,
   "id": "cf98d1ad-914c-4910-ba2d-635e60da0a87",
   "metadata": {},
   "outputs": [],
   "source": [
    "import math\n",
    "\n",
    "def calcular_circunferencia(radio):\n",
    "    area = math.pi * radio ** 2\n",
    "    perimetro = 2 * math.pi * radio\n",
    "    return (area, perimetro)\n"
   ]
  },
  {
   "cell_type": "code",
   "execution_count": 351,
   "id": "e6af0d7c-dc15-4b3d-8910-c85803229ea0",
   "metadata": {},
   "outputs": [
    {
     "name": "stdout",
     "output_type": "stream",
     "text": [
      "El área de la circunferencia es 78.53981633974483\n",
      "El perímetro de la circunferencia es 31.41592653589793\n"
     ]
    }
   ],
   "source": [
    "area, perimetro = calcular_circunferencia(5)\n",
    "print(f\"El área de la circunferencia es {area}\")\n",
    "print(f\"El perímetro de la circunferencia es {perimetro}\")"
   ]
  },
  {
   "cell_type": "markdown",
   "id": "1a7363ee-af04-40de-bfbe-77d4d71c8222",
   "metadata": {},
   "source": [
    "<span style=\"color:green\"><justify>8. Crear una función  llamada “Login”, que recibe un nombre de usuario y una contraseña y devuelva Verdadero si el nombre de usuario es “usuario1” y la contraseña es “asdasd”. Además recibe el número de intentos que se ha intentado hacer login y si no se ha podido hacer login incremente este valor.</justify></span>"
   ]
  },
  {
   "cell_type": "code",
   "execution_count": 352,
   "id": "47f504b7-dcf3-407e-8ced-9fc217b86b0d",
   "metadata": {},
   "outputs": [],
   "source": [
    "def Login(usuario, contraseña, intentos):\n",
    "    \n",
    "    max_intentos = 3\n",
    "   \n",
    "    while intentos < max_intentos:\n",
    "        \n",
    "        usuario = usuario\n",
    "        contraseña = contraseña\n",
    "        \n",
    "        if usuario == 'usuario1' and contraseña == 'asdasd':\n",
    "            return True\n",
    "        else:\n",
    "            intentos += 1\n",
    "            print(f\"Intento fallido. Llevas {intentos} intentos\")\n",
    "            return False\n",
    "    if intentos == max_intentos:\n",
    "        print(\"número máximo de intentos alcanzado. Está bloqueado\")\n",
    "    "
   ]
  },
  {
   "cell_type": "code",
   "execution_count": 357,
   "id": "6b520f54-3e6e-4dcb-bc61-5faf72b0302a",
   "metadata": {},
   "outputs": [
    {
     "data": {
      "text/plain": [
       "True"
      ]
     },
     "execution_count": 357,
     "metadata": {},
     "output_type": "execute_result"
    }
   ],
   "source": [
    "Login(\"usuario1\", \"asdasd\", intentos)"
   ]
  },
  {
   "cell_type": "code",
   "execution_count": 354,
   "id": "4d8658f3-4784-4bd4-a682-9e6df07ce25a",
   "metadata": {},
   "outputs": [
    {
     "name": "stdout",
     "output_type": "stream",
     "text": [
      "Intento fallido. Llevas 3 intentos\n"
     ]
    },
    {
     "data": {
      "text/plain": [
       "False"
      ]
     },
     "execution_count": 354,
     "metadata": {},
     "output_type": "execute_result"
    }
   ],
   "source": [
    "Login(\"usu\", \"fgre\", 2)"
   ]
  },
  {
   "cell_type": "code",
   "execution_count": 358,
   "id": "b4acd8fa-a73f-43c0-9491-cefe250a0ba6",
   "metadata": {},
   "outputs": [
    {
     "name": "stdout",
     "output_type": "stream",
     "text": [
      "número máximo de intentos alcanzado. Está bloqueado\n"
     ]
    }
   ],
   "source": [
    "Login(\"qew\", \"fhjfjh\", 3)"
   ]
  },
  {
   "cell_type": "markdown",
   "id": "7556a23d-9a31-4b7a-b992-4be9e5e2fa7d",
   "metadata": {},
   "source": [
    "<span style=\"color:green\"><justify>9. Crear una función recursiva que permita calcular el factorial de un número. Realiza un programa principal donde se lea un entero y se muestre el resultado del factorial. Revise la lección de funciones.</justify></span>"
   ]
  },
  {
   "cell_type": "code",
   "execution_count": 359,
   "id": "c528075d-3479-4a9d-ac6e-7ad3663145a5",
   "metadata": {},
   "outputs": [],
   "source": [
    "def factorial(n):\n",
    "    if n == 0:\n",
    "        return 1\n",
    "    else:\n",
    "        return n * factorial(n-1)\n"
   ]
  },
  {
   "cell_type": "code",
   "execution_count": 360,
   "id": "c3ee0155-8199-43e6-9a03-5cca5b5f19ba",
   "metadata": {},
   "outputs": [
    {
     "name": "stdin",
     "output_type": "stream",
     "text": [
      "Ingresa un número entero:  423\n"
     ]
    },
    {
     "name": "stdout",
     "output_type": "stream",
     "text": [
      "El factorial de 423 es 88665615014319916975910258001125988498226075426545410927460438352203709193261742787279072673199636121448380178141174809331395015947632184245439231320766452240834593226922288173960920262855828560240272375311740705958411756177376398814068046700513869527457051034075001436109074697545615443738862745798196083469951900479102835607839662923445945545641890622690324511350675865236354225047924129819113653245761023631162472980948595497325993056714052118854200734502856722017843063590588412391587792333131601325150708799045543366223111832955430316561093421748368548856634650702752797682472828457872918038763424470233834482230569335924138574208932748438627283156993640164809224781370229618966403078695903944887293576043326070128872767416219674516689627486242314184213279974433662511502751545523027216235678582320825598845291999652741120000000000000000000000000000000000000000000000000000000000000000000000000000000000000000000000000000000\n"
     ]
    }
   ],
   "source": [
    "n = int(input(\"Ingresa un número entero: \"))\n",
    "\n",
    "resultado = factorial(n)\n",
    "\n",
    "print(f\"El factorial de {n} es {resultado}\")\n"
   ]
  },
  {
   "cell_type": "markdown",
   "id": "27e9181c-12b1-4bfe-97cb-df657355a64b",
   "metadata": {},
   "source": [
    "<span style=\"color:green\"><justify>10 Escribir dos funciones que permitan calcular:\n",
    "* La cantidad de segundos en un tiempo dado en horas, minutos y segundos.\n",
    "* La cantidad de horas, minutos y segundos de un tiempo dado en segundos</justify></span>"
   ]
  },
  {
   "cell_type": "code",
   "execution_count": 361,
   "id": "b8e17432-8c50-4d5f-a33f-ddee997f04bc",
   "metadata": {},
   "outputs": [],
   "source": [
    "def tiempo_a_segundos(horas, minutos, segundos):\n",
    "    \"\"\"\n",
    "    Convierte una cantidad de tiempo en horas, minutos y segundos a segundos.\n",
    "    \"\"\"\n",
    "    return horas * 3600 + minutos * 60 + segundos\n",
    "\n",
    "def segundos_a_tiempo(segundos):\n",
    "    \"\"\"\n",
    "    Convierte una cantidad de segundos a tiempo en horas, minutos y segundos.\n",
    "    \"\"\"\n",
    "    horas = segundos // 3600\n",
    "    segundos %= 3600\n",
    "    minutos = segundos // 60\n",
    "    segundos %= 60\n",
    "    return horas, minutos, segundos\n"
   ]
  },
  {
   "cell_type": "code",
   "execution_count": 362,
   "id": "36403907-12be-4210-a060-0eb500bea258",
   "metadata": {},
   "outputs": [
    {
     "name": "stdin",
     "output_type": "stream",
     "text": [
      "Ingrese la cantidad de horas:  342\n",
      "Ingrese la cantidad de minutos:  254626\n",
      "Ingrese la cantidad de segundos:  23432\n"
     ]
    },
    {
     "name": "stdout",
     "output_type": "stream",
     "text": [
      "La cantidad de segundos en el tiempo ingresado es: 16532192\n"
     ]
    },
    {
     "name": "stdin",
     "output_type": "stream",
     "text": [
      "Ingrese la cantidad de segundos:  3423352163\n"
     ]
    },
    {
     "name": "stdout",
     "output_type": "stream",
     "text": [
      "La cantidad de tiempo en horas, minutos y segundos es: 950931 horas, 9 minutos y 23 segundos.\n"
     ]
    }
   ],
   "source": [
    "horas = int(input(\"Ingrese la cantidad de horas: \"))\n",
    "minutos = int(input(\"Ingrese la cantidad de minutos: \"))\n",
    "segundos = int(input(\"Ingrese la cantidad de segundos: \"))\n",
    "\n",
    "segundos_totales = tiempo_a_segundos(horas, minutos, segundos)\n",
    "\n",
    "print(\"La cantidad de segundos en el tiempo ingresado es:\", segundos_totales)\n",
    "\n",
    "segundos = int(input(\"Ingrese la cantidad de segundos: \"))\n",
    "\n",
    "horas, minutos, segundos = segundos_a_tiempo(segundos)\n",
    "\n",
    "print(\"La cantidad de tiempo en horas, minutos y segundos es:\", horas, \"horas,\", minutos, \"minutos y\", segundos, \"segundos.\")\n"
   ]
  },
  {
   "cell_type": "markdown",
   "id": "068444ab-c396-498b-bdbf-0278f389de0a",
   "metadata": {},
   "source": [
    "<span style=\"color:green\"><justify>11. Crea una función  que lea una tupla, invierta los valores de la tupla y regrese una nueva tupla invirtiendo los valores. Recuerde que las tuplas son inmutables.</justify></span>"
   ]
  },
  {
   "cell_type": "code",
   "execution_count": 363,
   "id": "83132a2a-5625-485d-b6c2-fa92f2b8b0fc",
   "metadata": {},
   "outputs": [],
   "source": [
    "def invertir_tupla(tupla):\n",
    "    lista = list(tupla)\n",
    "    lista.reverse()\n",
    "    tupla_invertida = tuple(lista)\n",
    "    return tupla_invertida\n"
   ]
  },
  {
   "cell_type": "code",
   "execution_count": 364,
   "id": "51603525-2402-4b77-b86b-dc14f174c588",
   "metadata": {},
   "outputs": [
    {
     "name": "stdout",
     "output_type": "stream",
     "text": [
      "Tupla original: (1, 2, 3, 4, 5)\n",
      "Tupla invertida: (5, 4, 3, 2, 1)\n"
     ]
    }
   ],
   "source": [
    "mi_tupla = (1, 2, 3, 4, 5)\n",
    "\n",
    "print(\"Tupla original:\", mi_tupla)\n",
    "\n",
    "tupla_invertida = invertir_tupla(mi_tupla)\n",
    "\n",
    "print(\"Tupla invertida:\", tupla_invertida)\n"
   ]
  },
  {
   "cell_type": "markdown",
   "id": "6f48c00c-f149-416a-8864-96ab7cceefcf",
   "metadata": {},
   "source": [
    "<span style=\"color:green\"><justify>12. Escriba una función que lea una lista y calcule la media geométrica de sus valores, usando funtools.reduce.</justify></span>"
   ]
  },
  {
   "cell_type": "code",
   "execution_count": 365,
   "id": "00e9a0c6-9994-4769-acba-d571a9738d96",
   "metadata": {},
   "outputs": [],
   "source": [
    "import functools\n",
    "\n",
    "def media_geometrica(lista):\n",
    "    product = functools.reduce(lambda x, y: x * y, lista)\n",
    "    return product ** (1/len(lista))\n"
   ]
  },
  {
   "cell_type": "code",
   "execution_count": 366,
   "id": "b6167875-c4e8-43fc-87d5-a96d4f929ef5",
   "metadata": {},
   "outputs": [
    {
     "name": "stdout",
     "output_type": "stream",
     "text": [
      "2.605171084697352\n"
     ]
    }
   ],
   "source": [
    "lista = [1, 2, 3, 4, 5]\n",
    "print(media_geometrica(lista))  # salida: 2.605171084697352\n"
   ]
  }
 ],
 "metadata": {
  "kernelspec": {
   "display_name": "Python 3 (ipykernel)",
   "language": "python",
   "name": "python3"
  },
  "language_info": {
   "codemirror_mode": {
    "name": "ipython",
    "version": 3
   },
   "file_extension": ".py",
   "mimetype": "text/x-python",
   "name": "python",
   "nbconvert_exporter": "python",
   "pygments_lexer": "ipython3",
   "version": "3.8.16"
  }
 },
 "nbformat": 4,
 "nbformat_minor": 5
}
