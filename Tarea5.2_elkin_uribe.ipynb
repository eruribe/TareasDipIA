{
 "cells": [
  {
   "cell_type": "markdown",
   "id": "3dca63d4-39c1-4203-85e4-deebf24c6c71",
   "metadata": {},
   "source": [
    "# <span style=\"color:red\"><center>Tarea 5</center></span>\n",
    "### <span style=\"color:green\"><justify>por: Elkin Uribe</justify></span>"
   ]
  },
  {
   "cell_type": "markdown",
   "id": "28516bc5-66bc-4ddc-b276-ef197e8f1959",
   "metadata": {},
   "source": [
    "import csv\n",
    "import json\n",
    "import pandas as pd<span style=\"color:green\"><justify>7. Con base en todo lo anterior construya una clase, siguiendo las mejores prácticas que se verán en clase, que implemente toda la solución.</justify></span>"
   ]
  },
  {
   "cell_type": "code",
   "execution_count": 1,
   "id": "391ffc93-dd2f-4e4d-a4f9-df9129df152d",
   "metadata": {},
   "outputs": [],
   "source": [
    "import csv\n",
    "import json\n",
    "import pandas as pd"
   ]
  },
  {
   "cell_type": "code",
   "execution_count": 2,
   "id": "5b002df2-9d84-456a-bcf9-88e61b6202ed",
   "metadata": {},
   "outputs": [
    {
     "name": "stdout",
     "output_type": "stream",
     "text": [
      "El objeto JSON ha sido guardado en el archivo 'clientes_transacciones.json'\n"
     ]
    }
   ],
   "source": [
    "class GestorClientesTransacciones:\n",
    "    def __init__(self):\n",
    "        self.df_clientes = None\n",
    "        self.df_transacciones = None\n",
    "        self.diccionario_clientes_transacciones = None\n",
    "\n",
    "    def cargar_clientes_csv(self, file_path):\n",
    "        self.df_clientes = pd.read_csv(file_path)\n",
    "\n",
    "    def cargar_transacciones_csv(self, file_path):\n",
    "        self.df_transacciones = pd.read_csv(file_path)\n",
    "\n",
    "    def crear_diccionario_clientes_transacciones(self):\n",
    "        diccionario_clientes = {}\n",
    "\n",
    "        for index, row in self.df_clientes.iterrows():\n",
    "            id_cliente = row['id']\n",
    "            nombre_cliente = row['nombre']\n",
    "            cedula_cliente = row['cedula']\n",
    "\n",
    "            transacciones_cliente = self.df_transacciones[self.df_transacciones['id'] == id_cliente][['fecha', 'valor']].to_dict(orient='records')\n",
    "\n",
    "            diccionario_clientes[id_cliente] = {\n",
    "                'id': id_cliente,\n",
    "                'nombre': nombre_cliente,\n",
    "                'cedula': cedula_cliente,\n",
    "                'transacciones': transacciones_cliente\n",
    "            }\n",
    "\n",
    "        self.diccionario_clientes_transacciones = diccionario_clientes\n",
    "\n",
    "    def convertir_a_json(self, file_path):\n",
    "        with open(file_path, 'w') as file:\n",
    "            json.dump(self.diccionario_clientes_transacciones, file)\n",
    "\n",
    "    def cargar_datos(self, clientes_file_path, transacciones_file_path):\n",
    "        self.cargar_clientes_csv(clientes_file_path)\n",
    "        self.cargar_transacciones_csv(transacciones_file_path)\n",
    "        self.crear_diccionario_clientes_transacciones()\n",
    "\n",
    "    def guardar_json(self, file_path):\n",
    "        self.convertir_a_json(file_path)\n",
    "        print(f\"El objeto JSON ha sido guardado en el archivo '{file_path}'\")\n",
    "\n",
    "\n",
    "# Ejemplo de uso de la clase\n",
    "gestor = GestorClientesTransacciones()\n",
    "clientes_file_path = 'clientes.csv'\n",
    "transacciones_file_path = 'transacciones.csv'\n",
    "json_file_path = 'clientes_transacciones.json'\n",
    "\n",
    "gestor.cargar_datos(clientes_file_path, transacciones_file_path)\n",
    "gestor.guardar_json(json_file_path)\n"
   ]
  },
  {
   "cell_type": "code",
   "execution_count": null,
   "id": "248e9935-ba49-4305-917f-08b9de451738",
   "metadata": {},
   "outputs": [],
   "source": []
  }
 ],
 "metadata": {
  "kernelspec": {
   "display_name": "Python 3 (ipykernel)",
   "language": "python",
   "name": "python3"
  },
  "language_info": {
   "codemirror_mode": {
    "name": "ipython",
    "version": 3
   },
   "file_extension": ".py",
   "mimetype": "text/x-python",
   "name": "python",
   "nbconvert_exporter": "python",
   "pygments_lexer": "ipython3",
   "version": "3.10.10"
  }
 },
 "nbformat": 4,
 "nbformat_minor": 5
}
