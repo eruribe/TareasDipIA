{
 "cells": [
  {
   "cell_type": "markdown",
   "id": "3dca63d4-39c1-4203-85e4-deebf24c6c71",
   "metadata": {},
   "source": [
    "# <span style=\"color:red\"><center>Tarea 4</center></span>\n",
    "### <span style=\"color:green\"><justify>por: Elkin Uribe</justify></span>"
   ]
  },
  {
   "cell_type": "markdown",
   "id": "c826ccc9-fb0b-4162-bf11-d38c4ef78d18",
   "metadata": {},
   "source": [
    "<span style=\"color:green\"><justify>3. Escriba una clase con las siguientes funcionalidades:\n",
    "3.1. Al instanciar un objeto, lee un conjunto de datos numéricos. Por ejemplo puede usar el mismo conjunto de datos iris.csv. Instancie los datos en un dataframe de Pandas\n",
    "3.2 Implemente un método que calcule las estadísticas descriptivas básicas de cada una de las variables.\n",
    "3.3 Implemente un método que entregue los nombre de las variables disponibles.\n",
    "3.3 Implemente un método que reciba el nombre de una variable disponible dentro del objeto ( en el  dataframe) y regrese: sus estadísticas básicas:  media, mediana, desviación, percentiles q25, q50, q75 y dibuje un histograma de la distribución de la variable </justify></span>"
   ]
  },
  {
   "cell_type": "code",
   "execution_count": 1,
   "id": "b71c8b87-6dd8-42f9-9736-1eb2450cc2e9",
   "metadata": {},
   "outputs": [],
   "source": [
    "import pandas as pd\n",
    "import numpy as np\n",
    "from scipy.stats import trim_mean\n",
    "from statsmodels import robust\n",
    "import wquantiles\n",
    "\n",
    "import seaborn as sns\n",
    "import matplotlib.pylab as plt"
   ]
  },
  {
   "cell_type": "code",
   "execution_count": 2,
   "id": "cc92be3c-10e8-4372-ae8d-938919308f43",
   "metadata": {},
   "outputs": [],
   "source": [
    "class DataSet:\n",
    "    def __init__(self, file_path):\n",
    "        self.df = pd.read_csv(file_path)\n",
    "\n",
    "    def basic_stats(self):\n",
    "        return self.df.describe()\n",
    "\n",
    "    def available_variables(self):\n",
    "        return self.df.columns.tolist()\n",
    "\n",
    "    def variable_stats(self, var_name):\n",
    "        var_data = self.df[var_name]\n",
    "        stats = {\n",
    "            'mean': var_data.mean(),\n",
    "            'median': var_data.median(),\n",
    "            'std_dev': var_data.std(),\n",
    "            'q25': var_data.quantile(0.25),\n",
    "            'q50': var_data.quantile(0.5),\n",
    "            'q75': var_data.quantile(0.75),\n",
    "        }\n",
    "        plt.hist(var_data, bins=20)\n",
    "        plt.xlabel(var_name)\n",
    "        plt.ylabel('Frequency')\n",
    "        plt.title('Distribution of ' + var_name)\n",
    "        plt.show()\n",
    "        return stats"
   ]
  },
  {
   "cell_type": "code",
   "execution_count": 3,
   "id": "9ed7cacc-b5e2-44f5-bbc5-e57252688a24",
   "metadata": {},
   "outputs": [],
   "source": [
    "# crear una instancia de DataSet\n",
    "my_data = DataSet('iris.csv')"
   ]
  },
  {
   "cell_type": "code",
   "execution_count": 4,
   "id": "fecc2c33-0f6c-4973-894d-95532d4c6c57",
   "metadata": {},
   "outputs": [
    {
     "name": "stdout",
     "output_type": "stream",
     "text": [
      "                0           1           2           3\n",
      "count  150.000000  150.000000  150.000000  150.000000\n",
      "mean     5.843333    3.054000    3.758667    1.198667\n",
      "std      0.828066    0.433594    1.764420    0.763161\n",
      "min      4.300000    2.000000    1.000000    0.100000\n",
      "25%      5.100000    2.800000    1.600000    0.300000\n",
      "50%      5.800000    3.000000    4.350000    1.300000\n",
      "75%      6.400000    3.300000    5.100000    1.800000\n",
      "max      7.900000    4.400000    6.900000    2.500000\n"
     ]
    }
   ],
   "source": [
    "# obtener las estadísticas descriptivas básicas de todas las variables\n",
    "basic_stats = my_data.basic_stats()\n",
    "print(basic_stats)"
   ]
  },
  {
   "cell_type": "code",
   "execution_count": 5,
   "id": "a7c6debf-22ce-4bf9-8db3-bdaa85670089",
   "metadata": {},
   "outputs": [
    {
     "name": "stdout",
     "output_type": "stream",
     "text": [
      "['0', '1', '2', '3', '4']\n"
     ]
    }
   ],
   "source": [
    "# obtener los nombres de las variables disponibles\n",
    "available_vars = my_data.available_variables()\n",
    "print(available_vars)"
   ]
  },
  {
   "cell_type": "code",
   "execution_count": 6,
   "id": "5cebb9c3-3768-4163-b7ad-803d043207cc",
   "metadata": {},
   "outputs": [
    {
     "data": {
      "image/png": "[encoded data removed]",
      "text/plain": [
       "<Figure size 640x480 with 1 Axes>"
      ]
     },
     "metadata": {},
     "output_type": "display_data"
    },
    {
     "name": "stdout",
     "output_type": "stream",
     "text": [
      "{'mean': 3.758666666666666, 'median': 4.35, 'std_dev': 1.7644204199522617, 'q25': 1.6, 'q50': 4.35, 'q75': 5.1}\n"
     ]
    }
   ],
   "source": [
    "# obtener las estadísticas y el histograma de una variable\n",
    "sepal_length = '2'\n",
    "var_stats = my_data.variable_stats(sepal_length)\n",
    "print(var_stats)"
   ]
  },
  {
   "cell_type": "code",
   "execution_count": null,
   "id": "9b7ea65e-ca0c-42f1-a975-4bbb43ab19d4",
   "metadata": {},
   "outputs": [],
   "source": []
  }
 ],
 "metadata": {
  "kernelspec": {
   "display_name": "Python 3 (ipykernel)",
   "language": "python",
   "name": "python3"
  },
  "language_info": {
   "codemirror_mode": {
    "name": "ipython",
    "version": 3
   },
   "file_extension": ".py",
   "mimetype": "text/x-python",
   "name": "python",
   "nbconvert_exporter": "python",
   "pygments_lexer": "ipython3",
   "version": "3.10.10"
  }
 },
 "nbformat": 4,
 "nbformat_minor": 5
}
